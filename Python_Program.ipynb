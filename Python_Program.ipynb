{
  "nbformat": 4,
  "nbformat_minor": 0,
  "metadata": {
    "colab": {
      "provenance": []
    },
    "kernelspec": {
      "name": "python3",
      "display_name": "Python 3"
    },
    "language_info": {
      "name": "python"
    }
  },
  "cells": [
    {
      "cell_type": "code",
      "source": [
        "import numpy as np           #Import this library"
      ],
      "metadata": {
        "id": "eVYquMKHbgVj"
      },
      "execution_count": null,
      "outputs": []
    },
    {
      "cell_type": "code",
      "execution_count": null,
      "metadata": {
        "id": "6GURfMQCTpUL",
        "colab": {
          "base_uri": "https://localhost:8080/"
        },
        "outputId": "1656bc85-4107-43b2-e2d0-63fa096f8035"
      },
      "outputs": [
        {
          "output_type": "stream",
          "name": "stdout",
          "text": [
            "Please input an number between 5 and 15!12\n",
            "The number '12' is an valid number!\n"
          ]
        }
      ],
      "source": [
        "user_var=int(input(\"Please input an number between 5 and 15!\"))         #ASK for user input\n",
        "\n",
        "if user_var > 5 and user_var < 15:\n",
        "  print(\"The number '\" + str(user_var) + \"' is an valid number!\")               #If input is >5 and <15, prints this, else prints below\n",
        "else:\n",
        "  print(\"The number '\" + str(user_var) + \"' is invalid!\")"
      ]
    },
    {
      "cell_type": "code",
      "source": [
        "randlist=[]                           #Initialize an list var\n",
        "\n",
        "def myrandom(user_var):               #Create a method\n",
        "  for i in range(user_var):           #For however many value user inputs\n",
        "    randlist.append(np.random.randint(10, 50))        #Repeatedly appends to list with random integer between 10 and 50 until value reaches user inputted #\n",
        "  print(randlist)                                     #Finally, prints out the list with the filled value"
      ],
      "metadata": {
        "id": "VvghZpuBfqAh"
      },
      "execution_count": null,
      "outputs": []
    },
    {
      "cell_type": "code",
      "source": [
        "def mysum(randlist):        #Creates a method\n",
        "  total=0                   #Empty variable to store value\n",
        "  for i in range(0, len(randlist)):   #For each value from 0 to randlist length (which is user inputted #)\n",
        "    total = total + randlist[i]       #Repeatedly add to previous total every # within randlist until reached end\n",
        "  print(\"The sum of the values are: \" + str(total))     #Then print out the total"
      ],
      "metadata": {
        "id": "OIP-jkDroZLq"
      },
      "execution_count": null,
      "outputs": []
    },
    {
      "cell_type": "code",
      "source": [
        "myrandom(user_var)      #Call both method\n",
        "\n",
        "mysum(randlist)"
      ],
      "metadata": {
        "colab": {
          "base_uri": "https://localhost:8080/"
        },
        "id": "-MRZto7IpZUA",
        "outputId": "9dc3aabb-2b95-400a-fd42-7219845694a8"
      },
      "execution_count": null,
      "outputs": [
        {
          "output_type": "stream",
          "name": "stdout",
          "text": [
            "[45, 34, 10, 48, 21, 15, 31, 35, 45, 49, 36, 10]\n",
            "The sum of the values are: 379\n"
          ]
        }
      ]
    }
  ]
}